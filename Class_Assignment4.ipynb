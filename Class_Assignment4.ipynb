{
  "nbformat": 4,
  "nbformat_minor": 0,
  "metadata": {
    "colab": {
      "provenance": [],
      "authorship_tag": "ABX9TyMRoTX/ry6QBtFvcsBrPPfg",
      "include_colab_link": true
    },
    "kernelspec": {
      "name": "python3",
      "display_name": "Python 3"
    },
    "language_info": {
      "name": "python"
    }
  },
  "cells": [
    {
      "cell_type": "markdown",
      "metadata": {
        "id": "view-in-github",
        "colab_type": "text"
      },
      "source": [
        "<a href=\"https://colab.research.google.com/github/saafiyawaseem/Assignment_4_python_onsite/blob/main/Class_Assignment4.ipynb\" target=\"_parent\"><img src=\"https://colab.research.google.com/assets/colab-badge.svg\" alt=\"Open In Colab\"/></a>"
      ]
    },
    {
      "cell_type": "markdown",
      "source": [
        "#Lists  "
      ],
      "metadata": {
        "id": "kHsR7vcF_kb1"
      }
    },
    {
      "cell_type": "code",
      "execution_count": null,
      "metadata": {
        "id": "IdLgITRxtNyC",
        "colab": {
          "base_uri": "https://localhost:8080/"
        },
        "outputId": "13682772-0d42-48b7-e44e-a75496d0e2c8"
      },
      "outputs": [
        {
          "output_type": "stream",
          "name": "stdout",
          "text": [
            "['apple', 'banana', 'orange', 'graps']\n"
          ]
        }
      ],
      "source": [
        "# create and modify list\n",
        "Fruits =[\"apple\",\"banana\",\"orange\"]\n",
        "Fruits.append(\"graps\")\n",
        "print(Fruits)"
      ]
    },
    {
      "cell_type": "code",
      "source": [
        "Fruits.insert(2,\"mango\")\n",
        "print(Fruits)"
      ],
      "metadata": {
        "colab": {
          "base_uri": "https://localhost:8080/"
        },
        "id": "ACtOMjy21iVg",
        "outputId": "5e9cda0e-9f38-45d0-bb68-c59b9c8b42db"
      },
      "execution_count": null,
      "outputs": [
        {
          "output_type": "stream",
          "name": "stdout",
          "text": [
            "['apple', 'banana', 'mango', 'orange', 'graps']\n"
          ]
        }
      ]
    },
    {
      "cell_type": "code",
      "source": [
        "Fruits = ['apple', 'banana', 'mango', 'orange', 'graps']\n",
        "Fruits.remove(\"banana\")\n",
        "print(\"Final Fruits :\", Fruits)"
      ],
      "metadata": {
        "colab": {
          "base_uri": "https://localhost:8080/"
        },
        "id": "9QyxdR4M14Uo",
        "outputId": "0fbc4449-1a7e-42cf-9911-efd62571307d"
      },
      "execution_count": null,
      "outputs": [
        {
          "output_type": "stream",
          "name": "stdout",
          "text": [
            "Final Fruits : ['apple', 'mango', 'orange', 'graps']\n"
          ]
        }
      ]
    },
    {
      "cell_type": "markdown",
      "source": [
        "#2. List Operations  \n"
      ],
      "metadata": {
        "id": "lZ5IE5f__x_j"
      }
    },
    {
      "cell_type": "code",
      "source": [
        "num = [10,20,30,40,50]         #list:1\n",
        "more_num =[60,70,80]           #list:2\n",
        "all_num =num + more_num         #combine two list\n",
        "numbers_copy = all_num.copy()  # make  a copy\n",
        "numbers_copy.reverse()         #for reversing\n",
        "print(\"all numbers :\" ,all_num)\n",
        "print(\"reverse numbers :\", numbers_copy)"
      ],
      "metadata": {
        "id": "_EmYPxDm_7M9",
        "colab": {
          "base_uri": "https://localhost:8080/"
        },
        "outputId": "020accff-7b15-4864-8a15-b644ed4ded3e"
      },
      "execution_count": null,
      "outputs": [
        {
          "output_type": "stream",
          "name": "stdout",
          "text": [
            "all numbers : [10, 20, 30, 40, 50, 60, 70, 80]\n",
            "reverse numbers : [80, 70, 60, 50, 40, 30, 20, 10]\n"
          ]
        }
      ]
    },
    {
      "cell_type": "markdown",
      "source": [
        "3. Sorting and Counting  "
      ],
      "metadata": {
        "id": "bxPQlDFHtIGr"
      }
    },
    {
      "cell_type": "code",
      "source": [
        "scores = [85, 92, 78, 65, 92, 85, 74 ]\n",
        "\n",
        "scores.sort()                               # for assending order\n",
        "print(scores)\n",
        "\n",
        "scores.reverse()                            # for desending orde\n",
        "print(scores)\n",
        "\n",
        "print(scores.count(92))                      #for counting\n",
        "\n",
        "heighest = max(scores)                       #heighest score\n",
        "lowest = min(scores)                          #lowest score\n",
        "\n",
        "print(\"Heighest score :\" ,heighest)\n",
        "print(\"Lowest scores :\", lowest)\n",
        "\n",
        "print(sorted(scores))                        # for sorted list"
      ],
      "metadata": {
        "colab": {
          "base_uri": "https://localhost:8080/"
        },
        "id": "Od_NCZWotLg3",
        "outputId": "5232c910-2cb8-45a8-d606-61116cbc1c68"
      },
      "execution_count": null,
      "outputs": [
        {
          "output_type": "stream",
          "name": "stdout",
          "text": [
            "[65, 74, 78, 85, 85, 92, 92]\n",
            "[92, 92, 85, 85, 78, 74, 65]\n",
            "2\n",
            "Heighest score : 92\n",
            "Lowest scores : 65\n",
            "[65, 74, 78, 85, 85, 92, 92]\n"
          ]
        }
      ]
    },
    {
      "cell_type": "markdown",
      "source": [
        "# 4. List Manipulation"
      ],
      "metadata": {
        "id": "hzRnAc_h2mif"
      }
    },
    {
      "cell_type": "code",
      "source": [
        "\n",
        "letters = [\"a\",\"b\",\"c\",\"d\",\"e\"]\n",
        "# Use slicing to create a new list with only the first three letters\n",
        "first_three = letters[0:3]\n",
        "#Use slicing to create another list with only the last two letters\n",
        "two_letters = letters[3:5]\n",
        "#Find and print the index of \"c\" in the list\n",
        "index = letters.index(\"c\")\n",
        "#Replace \"d\" with \"z\" in the original list\n",
        "letters[3] = \"z\"\n",
        "\n",
        "\n",
        "print(first_three)\n",
        "print(two_letters)\n",
        "print(index)\n",
        "# Print the modified list\n",
        "print(\"modified list:\" ,letters)"
      ],
      "metadata": {
        "colab": {
          "base_uri": "https://localhost:8080/"
        },
        "id": "0EvXveh12uFy",
        "outputId": "502c4258-58af-4e62-d1ea-641bca98fbf1"
      },
      "execution_count": null,
      "outputs": [
        {
          "output_type": "stream",
          "name": "stdout",
          "text": [
            "['a', 'b', 'c']\n",
            "['d', 'e']\n",
            "2\n",
            "modified list: ['a', 'b', 'c', 'z', 'e']\n"
          ]
        }
      ]
    },
    {
      "cell_type": "markdown",
      "source": [
        "#Dictionary Methods Practice\n",
        "\n",
        "1. Create and Access Dictionaries  \n"
      ],
      "metadata": {
        "id": "LkLiTYQWAAMZ"
      }
    },
    {
      "cell_type": "code",
      "source": [
        "students= {\n",
        "     \"name\": \"John\",\n",
        "      \"age\": 20,\n",
        "     \"grade\": \"A\",\n",
        "    \"courses\": [\"Math\", \"Science\", \"History\"]\n",
        "}\n",
        "Entire_dictionary = students\n",
        "\n",
        "print(Entire_dictionary)\n",
        "\n",
        "students [\"email\"] =\"john@example.com\"# emaile add kerne ke liye\n",
        "print(students)\n",
        "\n",
        "print(students[\"name\"])\n",
        "\n",
        "print(students[\"courses\"])\n"
      ],
      "metadata": {
        "id": "baXOzwdLAUaC",
        "colab": {
          "base_uri": "https://localhost:8080/"
        },
        "outputId": "173cd765-1aa8-4e2a-8692-c7531f6d36dd"
      },
      "execution_count": null,
      "outputs": [
        {
          "output_type": "stream",
          "name": "stdout",
          "text": [
            "{'name': 'John', 'age': 20, 'grade': 'A', 'courses': ['Math', 'Science', 'History']}\n",
            "{'name': 'John', 'age': 20, 'grade': 'A', 'courses': ['Math', 'Science', 'History'], 'email': 'john@example.com'}\n",
            "John\n",
            "['Math', 'Science', 'History']\n",
            "{'name': 'John', 'age': 20, 'grade': 'A', 'courses': ['Math', 'Science', 'History'], 'email': 'john@example.com'}\n"
          ]
        }
      ]
    },
    {
      "cell_type": "markdown",
      "source": [
        "#2. Modify Dictionary Values  "
      ],
      "metadata": {
        "id": "HS12aAPyOagU"
      }
    },
    {
      "cell_type": "code",
      "source": [
        "students= {\n",
        "     \"name\": \"Ahmed\",\n",
        "      \"age\": 20,\n",
        "     \"grade\": \"A\",\n",
        "    \"courses\": [\"Math\", \"Science\", \"History\"]\n",
        "}\n",
        "\n",
        "students[\"age\"]=21\n",
        "\n",
        "students['grade']= \"A+\"\n",
        "students['courses'].append(\"computer science\")\n",
        "\n",
        "if 'phone' in students:\n",
        " print(\"Modified dictionary :\",students)\n",
        "else :\n",
        "  print('phone number is not found')\n",
        "  print('Modified dictionary : ',students)"
      ],
      "metadata": {
        "colab": {
          "base_uri": "https://localhost:8080/"
        },
        "id": "Z8AL_xbQOq0p",
        "outputId": "abca13ed-c5f6-47b2-c34d-9e038735adc0"
      },
      "execution_count": null,
      "outputs": [
        {
          "output_type": "stream",
          "name": "stdout",
          "text": [
            "phone number is not found\n",
            "Modified dictionary :  {'name': 'Ahmed', 'age': 21, 'grade': 'A+', 'courses': ['Math', 'Science', 'History', 'computer science']}\n"
          ]
        }
      ]
    },
    {
      "cell_type": "markdown",
      "source": [
        "#3. Dictionary Operations  "
      ],
      "metadata": {
        "id": "5bDk4DtRQ77C"
      }
    },
    {
      "cell_type": "code",
      "source": [
        "students= {\n",
        "     \"name\": \"John\",\n",
        "      \"age\": 20,\n",
        "     \"grade\": \"A\",\n",
        "    \"courses\": [\"Math\", \"Science\", \"History\"]\n",
        "}\n",
        "student_address = {\n",
        "       \"street\": \"123 College Ave\",\n",
        "        \"city\": \"New York\",\n",
        "         \"zip\": \"10001\"\n",
        "\n",
        "}\n",
        "# Step 3: Combine both dictionaries into a new dictionary\n",
        "student_info = students.copy()\n",
        "student_info.update(student_address)\n",
        "print(student_info)\n",
        "student_info.pop(\"zip\")\n",
        "if \"phone\" in student_info:\n",
        "\n",
        " print(student_info)"
      ],
      "metadata": {
        "colab": {
          "base_uri": "https://localhost:8080/"
        },
        "id": "utJLcA0NQ_Et",
        "outputId": "cecef1b2-076c-48b2-e856-c465ed24ce79"
      },
      "execution_count": null,
      "outputs": [
        {
          "output_type": "stream",
          "name": "stdout",
          "text": [
            "{'name': 'John', 'age': 20, 'grade': 'A', 'courses': ['Math', 'Science', 'History'], 'street': '123 College Ave', 'city': 'New York', 'zip': '10001'}\n"
          ]
        }
      ]
    },
    {
      "cell_type": "markdown",
      "source": [
        "#4. Dictionary Methods  "
      ],
      "metadata": {
        "id": "p-jU1BJqajM3"
      }
    },
    {
      "cell_type": "code",
      "source": [
        "word_count={\n",
        "    \"hello\": 5 ,\n",
        "    \"world\": 10 ,\n",
        "    \"python\": 15\n",
        "}\n",
        "\n",
        "#Get all keys\n",
        "print(word_count.keys())\n",
        "#Get all values\n",
        "print(word_count.values())\n",
        "#Get all key-value\n",
        "print(word_count)\n",
        "#o Make a copy of the dictionary\n",
        "word_count_copy= word_count.copy()\n",
        "print(word_count_copy)\n",
        "#Clear the original dict\n",
        "word_count.clear()\n",
        "print(word_count)\n",
        "#Print both dictionaries to verify one is empty and one is a copy\n",
        "print(\"Empty dictionary : \" ,word_count)\n",
        "print(\"copy dictionary: \" , word_count_copy)"
      ],
      "metadata": {
        "colab": {
          "base_uri": "https://localhost:8080/"
        },
        "id": "jOODe0pvan95",
        "outputId": "19ee423f-34d6-43c2-f51a-4997cc7bc650"
      },
      "execution_count": null,
      "outputs": [
        {
          "output_type": "stream",
          "name": "stdout",
          "text": [
            "dict_keys(['hello', 'world', 'python'])\n",
            "dict_values([5, 10, 15])\n",
            "{'hello': 5, 'world': 10, 'python': 15}\n",
            "{'hello': 5, 'world': 10, 'python': 15}\n",
            "{}\n",
            "Empty dictionary :  {}\n",
            "copy dictionary:  {'hello': 5, 'world': 10, 'python': 15}\n"
          ]
        }
      ]
    },
    {
      "cell_type": "markdown",
      "source": [
        "#Shopping Discount Calculator\n",
        "Tasks\n",
        "1. Set up the initial variables:  "
      ],
      "metadata": {
        "id": "cpy_VjW_NQfw"
      }
    },
    {
      "cell_type": "code",
      "source": [
        "purchase_amount =15000\n",
        "is_loyalty_member =True\n",
        "day_of_the_weak=\"Tuesday\"\n",
        "is_holiday_season =True\n",
        "\n",
        "original_price = purchase_amount\n",
        "total_discount = 0.0\n",
        "\n",
        "#step :1\n",
        "\n",
        "if purchase_amount > 100:\n",
        "  discount = purchase_amount *0.10\n",
        "  print(\"10% discount for purchase over $100applied : $\" , round(discount,2))\n",
        "  total_discount += discount\n",
        "\n",
        "elif purchase_amount > 50:\n",
        "  discount = purchase_amount *0.05\n",
        "  print(\"5% discount for purchase over $50 applied : $\" , round(discount ,2))\n",
        "  total_discount += discount\n",
        "\n",
        "#step:2 loyality discount\n",
        "\n",
        "if is_loyalty_member:\n",
        "  loyality_discount = purchase_amount *0.05\n",
        "  print(\"5% loyality member discount applied : $\", round(loyality_discount , 5))\n",
        "  total_discount += loyality_discount\n",
        "\n",
        "#step:3 weakend discount\n",
        "\n",
        "if day_of_the_weak == \"Tuesday\"  or day_of_the_weak==\"saturday\":\n",
        "  weakend_discount = purchase_amount *0.02\n",
        "  print(\"2% weekly discount applied : $\" ,round(weakend_discount , 2))\n",
        "  total_discount += weakend_discount\n",
        "\n",
        "#step:4 holiday discount\n",
        "\n",
        "if is_holiday_season:\n",
        "  holiday_discount = purchase_amount *0.08\n",
        "  print('8% holiday discount applied : $', round(holiday_discount ,2))\n",
        "  total_discount += holiday_discount\n",
        "\n",
        "#step:5 finally calculated price\n",
        "final_price = purchase_amount - total_discount\n",
        "print(\"Original purchase amount : $\", round(original_price ,2))\n",
        "print(\"Total discount applied : $\" ,round(total_discount , 2))\n",
        "print(\"Final price after discount : $\" , round(final_price ,2))\n",
        "\n",
        "\n",
        "\n"
      ],
      "metadata": {
        "id": "iJ93oYUq2s4A",
        "colab": {
          "base_uri": "https://localhost:8080/"
        },
        "outputId": "425e6dda-6ced-4a10-e0a9-bc3c587f4db7"
      },
      "execution_count": null,
      "outputs": [
        {
          "output_type": "stream",
          "name": "stdout",
          "text": [
            "10% discount for purchase over $100applied : $ 1500.0\n",
            "5% loyality member discount applied : $ 750.0\n",
            "2% weekly discount applied : $ 300.0\n",
            "8% holiday discount applied : $ 1200.0\n",
            "Original purchase amount : $ 15000\n",
            "Total discount applied : $ 3750.0\n",
            "Final price after discount : $ 11250.0\n"
          ]
        }
      ]
    },
    {
      "cell_type": "markdown",
      "source": [
        "#For Loop\n",
        "Pattern 2: Multiplication Table  "
      ],
      "metadata": {
        "id": "G4YGw8cBKkBW"
      }
    },
    {
      "cell_type": "code",
      "source": [
        "for i in range(1,11):\n",
        " print(i)"
      ],
      "metadata": {
        "colab": {
          "base_uri": "https://localhost:8080/"
        },
        "id": "CzPGArPNKsWz",
        "outputId": "fe71c3d8-230e-4383-9dcd-2b964be8067b"
      },
      "execution_count": null,
      "outputs": [
        {
          "output_type": "stream",
          "name": "stdout",
          "text": [
            "1\n",
            "2\n",
            "3\n",
            "4\n",
            "5\n",
            "6\n",
            "7\n",
            "8\n",
            "9\n",
            "10\n"
          ]
        }
      ]
    },
    {
      "cell_type": "markdown",
      "source": [
        "Pattern 2: Multiplication Table  "
      ],
      "metadata": {
        "id": "9KITvS9lLOAS"
      }
    },
    {
      "cell_type": "code",
      "source": [
        "for i in range(1,11):\n",
        "\n",
        "  print(i * 5)\n"
      ],
      "metadata": {
        "colab": {
          "base_uri": "https://localhost:8080/"
        },
        "id": "5ZVL510OLSFY",
        "outputId": "976301e5-f3b0-42c8-92ec-968d5faa5916"
      },
      "execution_count": null,
      "outputs": [
        {
          "output_type": "stream",
          "name": "stdout",
          "text": [
            "5\n",
            "10\n",
            "15\n",
            "20\n",
            "25\n",
            "30\n",
            "35\n",
            "40\n",
            "45\n",
            "50\n"
          ]
        }
      ]
    },
    {
      "cell_type": "markdown",
      "source": [
        "#While Loop Assignment - Interactive Game\n"
      ],
      "metadata": {
        "id": "Rw_ayr26M-K_"
      }
    },
    {
      "cell_type": "code",
      "source": [
        "secret_number = 42\n",
        "guess = 0\n",
        "while guess != secret_number:\n",
        " guess = int(input(\"Guess the number:\"))\n",
        " if guess > secret_number:\n",
        "   print(\"you guessed is too high \")\n",
        " elif guess < secret_number:\n",
        "   print(\"you guessed is too low\")\n",
        "else:\n",
        "  print(\"Congratulation ! You guess correct number\")\n"
      ],
      "metadata": {
        "colab": {
          "base_uri": "https://localhost:8080/"
        },
        "id": "pROI7DHgNPSF",
        "outputId": "f0056a06-5816-4257-c057-f81911bb0e3c"
      },
      "execution_count": null,
      "outputs": [
        {
          "output_type": "stream",
          "name": "stdout",
          "text": [
            "Guess the number:34\n",
            "you guessed is too low\n",
            "Guess the number:53\n",
            "you guessed is too high \n",
            "Guess the number:42\n",
            "Congratulation ! You guess correct number\n"
          ]
        }
      ]
    },
    {
      "cell_type": "markdown",
      "source": [
        "#Student Grade Management System"
      ],
      "metadata": {
        "id": "bPZqzuyLUrxX"
      }
    },
    {
      "cell_type": "code",
      "source": [
        "students =[]\n",
        "\n",
        "student1 :dict ={\n",
        "\n",
        "             \"name\": \"Anila\",\n",
        "              \"id\": 123,\n",
        "              \"class\": \"Thursday morning\",\n",
        "              \"quarter\": 3,\n",
        "              \"grade\": {\n",
        "\n",
        "                    \"Javascript\":50,\n",
        "                    \"nextjs\":  40,\n",
        "                    \"python\": 58,\n",
        "\n",
        " }}\n",
        "student2 ={\n",
        "\n",
        "          \"name\": \"Nirma\",\n",
        "          \"id\": 456,\n",
        "          \"class\": \"Thursday morning\",\n",
        "          \"quarter\": 3,\n",
        "          \"grade\":{\n",
        "\n",
        "               \"Javascript\":90,\n",
        "               \"nextjs\":  89,\n",
        "               \"python\": 98,\n",
        " }}\n",
        "\n",
        "student3 ={\n",
        "\n",
        "           \"name\": \"Ahmed\",\n",
        "           \"id\": 789,\n",
        "           \"class\": \"Thursday morning\",\n",
        "           \"quarter\": 3,\n",
        "           \"grade\": {\n",
        "\n",
        "                  \"Javascript\":90,\n",
        "                  \"nextjs\":  45,\n",
        "                  \"python\": 98,\n",
        "}}\n",
        "\n",
        "\n",
        "# Add students to list\n",
        "students.append(student1)\n",
        "students.append(student2)\n",
        "students.append(student3)\n",
        "\n",
        "# Step 2: Display student info with average\n",
        "highest_avg = 0\n",
        "top_student = None\n",
        "\n",
        "print(\"\\nAll Students and Their Averages:\\n\")\n",
        "for student in students:\n",
        "    print(\"Name:\", student[\"name\"])\n",
        "    print(\"ID:\", student[\"id\"])\n",
        "    print(\"Grades:\", student[\"grade\"])\n",
        "\n",
        "    grades = list(student[\"grade\"].values())\n",
        "    avg = sum(grades) / len(grades)\n",
        "    print(\"Average Grade:\", round(avg, 2))\n",
        "\n",
        "    if avg > highest_avg:\n",
        "        highest_avg = avg\n",
        "        top_student = student\n",
        "\n",
        "    print(\"-\" * 30)\n",
        "\n",
        "# Step 3: Top student\n",
        "print(\"\\n Top Student:\")\n",
        "print(\"Name:\", top_student[\"name\"])\n",
        "print(\"Average Grade:\", round(highest_avg, 2))\n",
        "\n",
        "# Step 4: Average in specific subject (e.g., 'python')\n",
        "subject = \"python\"\n",
        "total = 0\n",
        "count = 0\n",
        "\n",
        "for student in students:\n",
        "    if subject in student[\"grade\"]:\n",
        "        total += student[\"grade\"][subject]\n",
        "        count += 1\n",
        "\n",
        "if count > 0:\n",
        "    print(f\"\\n Average Grade in {subject}:\", round(total / count, 2))\n",
        "else:\n",
        "    print(f\"{subject} subject not found.\")\n",
        "\n",
        "\n"
      ],
      "metadata": {
        "colab": {
          "base_uri": "https://localhost:8080/"
        },
        "id": "Hymcn_OHUy7r",
        "outputId": "d7db74b4-ec24-4e3d-c14a-3000f3edef5a"
      },
      "execution_count": null,
      "outputs": [
        {
          "output_type": "stream",
          "name": "stdout",
          "text": [
            "\n",
            "All Students and Their Averages:\n",
            "\n",
            "Name: Anila\n",
            "ID: 123\n",
            "Grades: {'Javascript': 50, 'nextjs': 40, 'python': 58}\n",
            "Average Grade: 49.33\n",
            "------------------------------\n",
            "Name: Nirma\n",
            "ID: 456\n",
            "Grades: {'Javascript': 90, 'nextjs': 89, 'python': 98}\n",
            "Average Grade: 92.33\n",
            "------------------------------\n",
            "Name: Ahmed\n",
            "ID: 789\n",
            "Grades: {'Javascript': 90, 'nextjs': 45, 'python': 98}\n",
            "Average Grade: 77.67\n",
            "------------------------------\n",
            "\n",
            " Top Student:\n",
            "Name: Nirma\n",
            "Average Grade: 92.33\n",
            "\n",
            " Average Grade in python: 84.67\n"
          ]
        }
      ]
    }
  ]
}